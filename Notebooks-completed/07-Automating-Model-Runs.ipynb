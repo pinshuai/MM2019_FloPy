{
 "cells": [
  {
   "cell_type": "markdown",
   "metadata": {},
   "source": [
    "### Automating Model Runs - Streamflow Capture Analysis\n",
    "\n",
    "All groundwater pumped is balanced by removal of water somewhere, initially from storage in the aquifer and later from capture in the form of increase in recharge and decrease in discharge (Leake and others, 2010). Capture that results in a loss of water in streams, rivers, and wetlands now is a concern in many parts of the United States. Hydrologists commonly use analytical and numerical approaches to study temporal variations in sources of water to wells for select points of interest. Much can be learned about coupled surface/groundwater systems, however, by looking at the spatial distribution of theoretical capture for select times of interest. Development of maps of capture requires (1) a reasonably well-constructed transient or steady state model of an aquifer with head-dependent flow boundaries representing surface water features or evapotranspiration and (2) an automated procedure to run the model repeatedly and extract results, each time with a well in a different location. In this exercise, we will perform a streamflow capture analysis of the Freyberg model domain by developing a MODFLOW model, running it as many times as there are active model cells, and then creating a streamflow capture fraction map to summarize the results.\n",
    "\n",
    "[Leake, S. A., Reeves, H. W. and Dickinson, J. E. (2010), A New Capture Fraction Method to Map How Pumpage Affects Surface Water Flow. Ground Water, 48: 690–700. doi: 10.1111/j.1745-6584.2010.00701.x](http://onlinelibrary.wiley.com/doi/10.1111/j.1745-6584.2010.00701.x/abstract)\n",
    "\n"
   ]
  },
  {
   "cell_type": "code",
   "execution_count": 1,
   "metadata": {},
   "outputs": [
    {
     "name": "stdout",
     "output_type": "stream",
     "text": [
      "flopy is installed in /Users/shua784/anaconda3/lib/python3.6/site-packages/flopy\n"
     ]
    }
   ],
   "source": [
    "import os\n",
    "import numpy as np\n",
    "import matplotlib.pyplot as plt\n",
    "import flopy"
   ]
  },
  {
   "cell_type": "markdown",
   "metadata": {},
   "source": [
    "#### Load existing freyberg model\n",
    "\n",
    "The MODFLOW 6 version of the freyberg model is located in:\n",
    "\n",
    "```\n",
    "../data/freyberg\n",
    "```\n",
    "\n",
    "The model name is `freyberg6`.\n",
    "\n",
    "You should define the model workspace (`ws`) where the model files are, the model name (`name`), and the name and path of the model executable (`exe_name`). "
   ]
  },
  {
   "cell_type": "code",
   "execution_count": 2,
   "metadata": {},
   "outputs": [
    {
     "name": "stdout",
     "output_type": "stream",
     "text": [
      "loading simulation...\n",
      "  loading simulation name file...\n",
      "  loading tdis package...\n",
      "  loading model gwf6...\n",
      "    loading package dis...\n",
      "    loading package ic...\n",
      "WARNING: Block \"options\" is not a valid block name for file type ic.\n",
      "    loading package npf...\n",
      "    loading package oc...\n",
      "    loading package wel...\n",
      "    loading package riv...\n",
      "    loading package rch...\n",
      "    loading package chd...\n",
      "  loading ims package freyberg6...\n"
     ]
    }
   ],
   "source": [
    "ws = '../data/freyberg'\n",
    "name = 'freyberg6'\n",
    "exe_name = os.path.abspath('../bin/mf6')\n",
    "sim = flopy.mf6.MFSimulation.load(sim_name=name, exe_name=exe_name, sim_ws=ws)"
   ]
  },
  {
   "cell_type": "markdown",
   "metadata": {},
   "source": [
    "#### Change the model workspace and run the model\n",
    "\n",
    "The model workspace can be changed using `sim.set_sim_path(ws)`, where `ws` is set to be `data/freyberg`. Next write the simulation using `sim.write_simulation()` and run the model using `sim.run_simulation()`."
   ]
  },
  {
   "cell_type": "code",
   "execution_count": 3,
   "metadata": {},
   "outputs": [],
   "source": [
    "ws = 'data/freyberg/'\n",
    "sim.set_sim_path(ws)"
   ]
  },
  {
   "cell_type": "code",
   "execution_count": 4,
   "metadata": {},
   "outputs": [
    {
     "name": "stdout",
     "output_type": "stream",
     "text": [
      "writing simulation...\n",
      "  writing simulation name file...\n",
      "  writing simulation tdis package...\n",
      "  writing ims package freyberg6...\n",
      "  writing model freyberg6...\n",
      "    writing model name file...\n",
      "    writing package dis...\n",
      "    writing package ic...\n",
      "    writing package npf...\n",
      "    writing package oc...\n",
      "    writing package wel...\n",
      "    writing package riv-1...\n",
      "    writing package rch-1...\n",
      "    writing package chd-1...\n",
      "FloPy is using the following  executable to run the model: /Users/shua784/Dropbox/github/MM2019_FloPy/bin/mf6\n",
      "                                   MODFLOW 6\n",
      "                U.S. GEOLOGICAL SURVEY MODULAR HYDROLOGIC MODEL\n",
      "                            VERSION 6.0.4 03/13/2019\n",
      "\n",
      "   MODFLOW 6 compiled Mar 21 2019 13:54:16 with IFORT compiler (ver. 19.0.0)\n",
      "\n",
      "This software has been approved for release by the U.S. Geological \n",
      "Survey (USGS). Although the software has been subjected to rigorous \n",
      "review, the USGS reserves the right to update the software as needed \n",
      "pursuant to further analysis and review. No warranty, expressed or \n",
      "implied, is made by the USGS or the U.S. Government as to the \n",
      "functionality of the software and related material nor shall the \n",
      "fact of release constitute any such warranty. Furthermore, the \n",
      "software is released on condition that neither the USGS nor the U.S. \n",
      "Government shall be held liable for any damages resulting from its \n",
      "authorized or unauthorized use. Also refer to the USGS Water \n",
      "Resources Software User Rights Notice for complete use, copyright, \n",
      "and distribution information.\n",
      "\n",
      " Run start date and time (yyyy/mm/dd hh:mm:ss): 2019/06/02 15:31:23\n",
      "\n",
      " Writing simulation list file: mfsim.lst\n",
      " Using Simulation name file: mfsim.nam\n",
      " Solving:  Stress period:     1    Time step:     1\n",
      " Run end date and time (yyyy/mm/dd hh:mm:ss): 2019/06/02 15:31:23\n",
      " Elapsed run time:  0.072 Seconds\n",
      "\n",
      " Normal termination of simulation.\n"
     ]
    },
    {
     "data": {
      "text/plain": [
       "(True, [])"
      ]
     },
     "execution_count": 4,
     "metadata": {},
     "output_type": "execute_result"
    }
   ],
   "source": [
    "sim.write_simulation()\n",
    "sim.run_simulation()"
   ]
  },
  {
   "cell_type": "markdown",
   "metadata": {},
   "source": [
    "#### Extract the river results for the base model\n",
    "\n",
    "Load the `RIV` results from `freyberg6.cbc` using `flopy.utils.CellBudgetFile(pth, precision='double')` and the `get_data(text=RIV)` method."
   ]
  },
  {
   "cell_type": "code",
   "execution_count": 5,
   "metadata": {},
   "outputs": [],
   "source": [
    "cpth = os.path.join(ws, 'freyberg6.cbc')\n",
    "cobj = flopy.utils.CellBudgetFile(cpth, precision='double')"
   ]
  },
  {
   "cell_type": "code",
   "execution_count": 6,
   "metadata": {},
   "outputs": [
    {
     "name": "stdout",
     "output_type": "stream",
     "text": [
      "RECORD           IMETH\n",
      "----------------------\n",
      "FLOW-JA-FACE         1\n",
      "WEL                  6\n",
      "RIV                  6\n",
      "RCH                  6\n",
      "CHD                  6\n"
     ]
    }
   ],
   "source": [
    "cobj.list_unique_records()"
   ]
  },
  {
   "cell_type": "code",
   "execution_count": 7,
   "metadata": {},
   "outputs": [],
   "source": [
    "riv = cobj.get_data(text='RIV')"
   ]
  },
  {
   "cell_type": "code",
   "execution_count": 19,
   "metadata": {},
   "outputs": [
    {
     "data": {
      "text/plain": [
       "[rec.array([( 15,  1, -6.08993399e-04, 0.), ( 35,  2, -1.34002347e-03, 0.),\n",
       "            ( 55,  3, -1.37951091e-03, 0.), ( 75,  4, -1.53636161e-03, 0.),\n",
       "            ( 95,  5, -1.69693831e-03, 0.), (115,  6, -1.58028707e-03, 0.),\n",
       "            (135,  7, -1.07549801e-03, 0.), (155,  8, -5.17488943e-04, 0.),\n",
       "            (175,  9, -5.90035981e-05, 0.), (195, 10,  4.19429182e-03, 0.),\n",
       "            (215, 11, -1.76309924e-03, 0.), (235, 12, -8.44036952e-04, 0.),\n",
       "            (255, 13, -1.13097911e-03, 0.), (275, 14, -1.37832276e-03, 0.),\n",
       "            (295, 15, -1.25738260e-03, 0.), (315, 16, -1.23110745e-03, 0.),\n",
       "            (335, 17, -1.22515668e-03, 0.), (355, 18, -1.23856760e-03, 0.),\n",
       "            (375, 19, -9.65659781e-04, 0.), (395, 20, -1.83562499e-04, 0.),\n",
       "            (415, 21, -1.01521285e-03, 0.), (435, 22, -1.42083861e-03, 0.),\n",
       "            (455, 23, -1.62176336e-03, 0.), (475, 24, -1.71880792e-03, 0.),\n",
       "            (495, 25, -1.87653437e-03, 0.), (515, 26, -2.11432430e-03, 0.),\n",
       "            (535, 27, -1.69152599e-03, 0.), (555, 28, -1.71915395e-03, 0.),\n",
       "            (575, 29, -1.55394993e-03, 0.), (595, 30, -1.62577593e-03, 0.),\n",
       "            (615, 31, -1.26268977e-03, 0.), (635, 32, -8.08753951e-04, 0.),\n",
       "            (655, 33, -1.09994079e-03, 0.), (675, 34, -9.15586595e-04, 0.),\n",
       "            (695, 35, -9.88489686e-04, 0.), (715, 36, -1.06887430e-03, 0.),\n",
       "            (735, 37, -1.07316202e-03, 0.), (755, 38, -7.21796126e-04, 0.),\n",
       "            (775, 39, -6.03908893e-04, 0.), (795, 40,  0.00000000e+00, 0.)],\n",
       "           dtype=[('node', '<i4'), ('node2', '<i4'), ('q', '<f8'), ('IFACE', '<f8')])]"
      ]
     },
     "execution_count": 19,
     "metadata": {},
     "output_type": "execute_result"
    }
   ],
   "source": [
    "riv"
   ]
  },
  {
   "cell_type": "markdown",
   "metadata": {},
   "source": [
    "The river flux data is the `q` dtype in the river data. The data returned by `.get_data()` is a numpy recarray so the total stream flow can be calculated directly using `.q.sum()`."
   ]
  },
  {
   "cell_type": "code",
   "execution_count": 8,
   "metadata": {},
   "outputs": [
    {
     "data": {
      "text/plain": [
       "-0.04271471982000319"
      ]
     },
     "execution_count": 8,
     "metadata": {},
     "output_type": "execute_result"
    }
   ],
   "source": [
    "qbase = riv[0].q.sum()\n",
    "qbase"
   ]
  },
  {
   "cell_type": "markdown",
   "metadata": {},
   "source": [
    "#### Add additional wells and perform streamflow capture analysis\n",
    "\n",
    "First get the gwf model object so that we can add a new well package to perturb the stream flow in each cell. You can get a list of the available models in the simulation using `sim.model_names`. Get the gwf model object using `sim.get_model()`."
   ]
  },
  {
   "cell_type": "code",
   "execution_count": 9,
   "metadata": {},
   "outputs": [],
   "source": [
    "gwf = sim.get_model('freyberg6')"
   ]
  },
  {
   "cell_type": "markdown",
   "metadata": {},
   "source": [
    "We will need the idomain and the CHD locations so that we only add wells in active cells. The idomain can be retrieved using `gwf.dis.idomain.array`. It will be useful to have the number of rows and columns in the model."
   ]
  },
  {
   "cell_type": "code",
   "execution_count": 10,
   "metadata": {},
   "outputs": [],
   "source": [
    "nrow, ncol = gwf.dis.nrow.array, gwf.dis.ncol.array"
   ]
  },
  {
   "cell_type": "code",
   "execution_count": 11,
   "metadata": {},
   "outputs": [],
   "source": [
    "idomain = gwf.dis.idomain.array"
   ]
  },
  {
   "cell_type": "code",
   "execution_count": 12,
   "metadata": {},
   "outputs": [
    {
     "data": {
      "text/plain": [
       "(1, 40, 20)"
      ]
     },
     "execution_count": 12,
     "metadata": {},
     "output_type": "execute_result"
    }
   ],
   "source": [
    "idomain.shape"
   ]
  },
  {
   "cell_type": "code",
   "execution_count": 13,
   "metadata": {},
   "outputs": [
    {
     "data": {
      "text/plain": [
       "['dis', 'ic', 'npf', 'oc', 'wel', 'riv-1', 'rch-1', 'chd-1']"
      ]
     },
     "execution_count": 13,
     "metadata": {},
     "output_type": "execute_result"
    }
   ],
   "source": [
    "gwf.package_names"
   ]
  },
  {
   "cell_type": "markdown",
   "metadata": {},
   "source": [
    "Determine cells with constant head boundary conditions (`cellid`) in `.stress_period_data.get_data()[0]`. "
   ]
  },
  {
   "cell_type": "code",
   "execution_count": 20,
   "metadata": {},
   "outputs": [],
   "source": [
    "chd = gwf.get_package('chd-1')\n",
    "cellid = chd.stress_period_data.get_data()[0].cellid"
   ]
  },
  {
   "cell_type": "markdown",
   "metadata": {},
   "source": [
    "Set idomain to zero in cells with constant heads"
   ]
  },
  {
   "cell_type": "code",
   "execution_count": 15,
   "metadata": {},
   "outputs": [],
   "source": [
    "for ipos in cellid:\n",
    "    idomain[ipos] = 0"
   ]
  },
  {
   "cell_type": "markdown",
   "metadata": {},
   "source": [
    "Make an array to store the values"
   ]
  },
  {
   "cell_type": "code",
   "execution_count": 16,
   "metadata": {},
   "outputs": [],
   "source": [
    "capture = np.zeros(idomain.shape, dtype=np.float)"
   ]
  },
  {
   "cell_type": "markdown",
   "metadata": {},
   "source": [
    "#### Streamflow capture analysis code block\n",
    "The code block below loops through every cell in the model and for each active cell adds a well in the current cell, rewrites the well file, reruns the model, extracts river leakage results from the model, and calculates the streamflow capture fraction for the cell. The model is run  with `silent=True` to suppress model output to the screen.\n",
    "\n",
    "Streamflow capture is defined as \n",
    "\n",
    "$c_{k,i,j} = \\frac{q_{k,i,j} - q_{{k,i,j}_{\\text{base}}}}{|q_{\\text{well}}|}$,\n",
    "\n",
    "where $q_{\\text{well}}$ is the pumping rate applied in each cell (use `-0.001`), $q_{k,i,j}$ is the net simulated river flux, and $q_{{k,i,j}_{\\text{base}}}$ is the net simulated river flux from the base model. "
   ]
  },
  {
   "cell_type": "code",
   "execution_count": 17,
   "metadata": {},
   "outputs": [],
   "source": [
    "wnam = gwf.name + '_cf.wel'\n",
    "qwell = -1e-3\n",
    "k = 0\n",
    "for i in range(nrow):\n",
    "    for j in range(ncol):\n",
    "        # skip inactive cells\n",
    "        if idomain[k, i, j] == 0:\n",
    "            continue\n",
    "            \n",
    "        # make a new well package\n",
    "        spd = {0: [[(k, i, j), qwell]]}\n",
    "        wel = flopy.mf6.ModflowGwfwel(gwf, pname='WEL-2', filename=wnam, stress_period_data=spd)\n",
    "        \n",
    "        # write the simulation files\n",
    "        sim.write_simulation(silent=True)\n",
    "        \n",
    "        # run the simulation\n",
    "        sim.run_simulation(silent=True)\n",
    "        \n",
    "        # process the results\n",
    "        cpth = os.path.join(ws, 'freyberg6.cbc')\n",
    "        cobj = flopy.utils.CellBudgetFile(cpth, precision='double')\n",
    "        riv = cobj.get_data(text='RIV')\n",
    "        q = riv[0].q.sum()\n",
    "        \n",
    "        # add the value to the capture array\n",
    "        capture[k, i, j] = (q - qbase) / (-qwell)\n",
    "        \n",
    "        # remove the new well package so it can be readded\n",
    "        gwf.remove_package('WEL-2')"
   ]
  },
  {
   "cell_type": "markdown",
   "metadata": {},
   "source": [
    "Plot the capture fraction results using `flopy.plot.PlotMapView(model=gwf)` and `.plot_array()`."
   ]
  },
  {
   "cell_type": "code",
   "execution_count": 18,
   "metadata": {},
   "outputs": [
    {
     "data": {
      "text/plain": [
       "<matplotlib.colorbar.Colorbar at 0x113f43198>"
      ]
     },
     "execution_count": 18,
     "metadata": {},
     "output_type": "execute_result"
    },
    {
     "data": {
      "image/png": "[encoded data removed]",
      "text/plain": [
       "<matplotlib.figure.Figure at 0x113e3d128>"
      ]
     },
     "metadata": {},
     "output_type": "display_data"
    }
   ],
   "source": [
    "mm = flopy.plot.PlotMapView(model=gwf)\n",
    "c = mm.plot_array(capture)\n",
    "plt.colorbar(c)"
   ]
  },
  {
   "cell_type": "code",
   "execution_count": null,
   "metadata": {},
   "outputs": [],
   "source": []
  },
  {
   "cell_type": "code",
   "execution_count": null,
   "metadata": {},
   "outputs": [],
   "source": []
  }
 ],
 "metadata": {
  "kernelspec": {
   "display_name": "Python 3",
   "language": "python",
   "name": "python3"
  },
  "language_info": {
   "codemirror_mode": {
    "name": "ipython",
    "version": 3
   },
   "file_extension": ".py",
   "mimetype": "text/x-python",
   "name": "python",
   "nbconvert_exporter": "python",
   "pygments_lexer": "ipython3",
   "version": "3.6.8"
  }
 },
 "nbformat": 4,
 "nbformat_minor": 2
}
